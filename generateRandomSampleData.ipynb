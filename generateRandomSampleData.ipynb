{
 "metadata": {
  "name": "",
  "signature": "sha256:58341e6caa615b466f2e35fdbe504291bd47f36d253d691644f01bc81955aea9"
 },
 "nbformat": 3,
 "nbformat_minor": 0,
 "worksheets": [
  {
   "cells": [
    {
     "cell_type": "code",
     "collapsed": false,
     "input": [
      "import uuid\n",
      "import random\n",
      "import os\n",
      "import numpy as np"
     ],
     "language": "python",
     "metadata": {},
     "outputs": [],
     "prompt_number": 15
    },
    {
     "cell_type": "code",
     "collapsed": false,
     "input": [
      "# name the file\n",
      "outfile = 'somerandom10MBsampledata.csv'\n",
      "\n",
      "outsize = 10 # MB\n",
      "chunksize = 1000"
     ],
     "language": "python",
     "metadata": {},
     "outputs": [],
     "prompt_number": 16
    },
    {
     "cell_type": "markdown",
     "metadata": {},
     "source": [
      "This will generate the random sample csv data in following format:\n",
      "\n",
      "c77b0056-7f10-41b0-9aa2-f714f0e5a3eb,12.124733,19.329938,506"
     ]
    },
    {
     "cell_type": "code",
     "collapsed": false,
     "input": [
      "with open(outfile, 'wb') as csvfile:\n",
      "    while (os.path.getsize(outfile)//1024**2) < outsize:\n",
      "        data = [[uuid.uuid4() for i in range(chunksize)],\n",
      "                np.random.random(chunksize)*50,\n",
      "                np.random.random(chunksize)*50,\n",
      "                np.random.randint(1000, size=(chunksize,))]\n",
      "        csvfile.writelines(['%s,%.6f,%.6f,%i\\n' % row for row in zip(*data)])"
     ],
     "language": "python",
     "metadata": {},
     "outputs": [],
     "prompt_number": 17
    },
    {
     "cell_type": "code",
     "collapsed": false,
     "input": [],
     "language": "python",
     "metadata": {},
     "outputs": [],
     "prompt_number": 17
    }
   ],
   "metadata": {}
  }
 ]
}