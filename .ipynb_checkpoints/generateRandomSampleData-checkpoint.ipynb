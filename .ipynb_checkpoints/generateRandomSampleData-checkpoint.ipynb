{
 "cells": [
  {
   "cell_type": "code",
   "execution_count": 4,
   "metadata": {
    "collapsed": false
   },
   "outputs": [],
   "source": [
    "import uuid\n",
    "import random\n",
    "import os\n",
    "import numpy as np"
   ]
  },
  {
   "cell_type": "code",
   "execution_count": 5,
   "metadata": {
    "collapsed": false
   },
   "outputs": [],
   "source": [
    "# name the file\n",
    "outfile = 'somerandom10MBsampledata.csv'\n",
    "\n",
    "outsize = 10 # MB\n",
    "chunksize = 1000"
   ]
  },
  {
   "cell_type": "markdown",
   "metadata": {},
   "source": [
    "This will generate the random sample csv data in following format:\n",
    "\n",
    "c77b0056-7f10-41b0-9aa2-f714f0e5a3eb,12.124733,19.329938,506"
   ]
  },
  {
   "cell_type": "code",
   "execution_count": 6,
   "metadata": {
    "collapsed": false
   },
   "outputs": [],
   "source": [
    "with open(outfile, 'wb') as csvfile:\n",
    "    while (os.path.getsize(outfile)//1024**2) < outsize:\n",
    "        data = [[uuid.uuid4() for i in range(chunksize)],\n",
    "                np.random.random(chunksize)*50,\n",
    "                np.random.random(chunksize)*50,\n",
    "                np.random.randint(1000, size=(chunksize,))]\n",
    "        csvfile.writelines(['%s,%.6f,%.6f,%i\\n' % row for row in zip(*data)])"
   ]
  },
  {
   "cell_type": "code",
   "execution_count": null,
   "metadata": {
    "collapsed": false
   },
   "outputs": [],
   "source": []
  }
 ],
 "metadata": {
  "kernelspec": {
   "display_name": "Python 2",
   "language": "python",
   "name": "python2"
  },
  "language_info": {
   "codemirror_mode": {
    "name": "ipython",
    "version": 2
   },
   "file_extension": ".py",
   "mimetype": "text/x-python",
   "name": "python",
   "nbconvert_exporter": "python",
   "pygments_lexer": "ipython2",
   "version": "2.7.9"
  }
 },
 "nbformat": 4,
 "nbformat_minor": 0
}
