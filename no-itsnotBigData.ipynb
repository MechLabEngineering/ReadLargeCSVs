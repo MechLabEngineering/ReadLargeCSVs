{
 "metadata": {
  "name": "",
  "signature": "sha256:b19608904a3187fb9c79f8422b730d9eba7563c4dd88abdcd277618d6e242069"
 },
 "nbformat": 3,
 "nbformat_minor": 0,
 "worksheets": [
  {
   "cells": [
    {
     "cell_type": "heading",
     "level": 1,
     "metadata": {},
     "source": [
      "Reading Large CSV Data"
     ]
    },
    {
     "cell_type": "code",
     "collapsed": false,
     "input": [
      "ftl = 'somerandom1GBsampledata.csv'"
     ],
     "language": "python",
     "metadata": {},
     "outputs": [],
     "prompt_number": 27
    },
    {
     "cell_type": "heading",
     "level": 2,
     "metadata": {},
     "source": [
      "Native Python with CSV"
     ]
    },
    {
     "cell_type": "code",
     "collapsed": false,
     "input": [
      "import csv"
     ],
     "language": "python",
     "metadata": {},
     "outputs": [],
     "prompt_number": 28
    },
    {
     "cell_type": "code",
     "collapsed": false,
     "input": [
      "#%%timeit -n 1\n",
      "datacsv = []\n",
      "with open(ftl, 'rb') as f:\n",
      "    reader = csv.reader(f)\n",
      "    for row in reader:\n",
      "        datacsv.append(row)"
     ],
     "language": "python",
     "metadata": {},
     "outputs": []
    },
    {
     "cell_type": "heading",
     "level": 2,
     "metadata": {},
     "source": [
      "Pandas"
     ]
    },
    {
     "cell_type": "code",
     "collapsed": false,
     "input": [
      "import pandas as pd"
     ],
     "language": "python",
     "metadata": {},
     "outputs": []
    },
    {
     "cell_type": "code",
     "collapsed": false,
     "input": [
      "#%%timeit -n 1\n",
      "datapandas = pd.read_csv(ftl)"
     ],
     "language": "python",
     "metadata": {},
     "outputs": []
    },
    {
     "cell_type": "heading",
     "level": 2,
     "metadata": {},
     "source": [
      "Blaze"
     ]
    },
    {
     "cell_type": "code",
     "collapsed": false,
     "input": [
      "from blaze import Data"
     ],
     "language": "python",
     "metadata": {},
     "outputs": []
    },
    {
     "cell_type": "code",
     "collapsed": false,
     "input": [
      "!wc -l 'somerandom10GBsampledata.csv'"
     ],
     "language": "python",
     "metadata": {},
     "outputs": [
      {
       "output_type": "stream",
       "stream": "stdout",
       "text": [
        " 177508000 somerandom10GBsampledata.csv\r\n"
       ]
      }
     ],
     "prompt_number": 26
    },
    {
     "cell_type": "code",
     "collapsed": false,
     "input": [
      "# Load a 10GB Data File\n",
      "data = Data('somerandom10GBsampledata.csv', columns=['UUID','Lat','Lon','Value'])\n",
      "data"
     ],
     "language": "python",
     "metadata": {},
     "outputs": [
      {
       "html": [
        "<table border=\"1\" class=\"dataframe\">\n",
        "  <thead>\n",
        "    <tr style=\"text-align: right;\">\n",
        "      <th></th>\n",
        "      <th>UUID</th>\n",
        "      <th>Lat</th>\n",
        "      <th>Lon</th>\n",
        "      <th>Value</th>\n",
        "    </tr>\n",
        "  </thead>\n",
        "  <tbody>\n",
        "    <tr>\n",
        "      <th>0 </th>\n",
        "      <td> f872bb02-046e-43e5-84c0-02bbf2859bf7</td>\n",
        "      <td>  6.445860</td>\n",
        "      <td> 26.821681</td>\n",
        "      <td> 728</td>\n",
        "    </tr>\n",
        "    <tr>\n",
        "      <th>1 </th>\n",
        "      <td> 764c7d87-f0ab-43f9-90c0-05394ef3ebcd</td>\n",
        "      <td> 31.101634</td>\n",
        "      <td> 12.362736</td>\n",
        "      <td> 540</td>\n",
        "    </tr>\n",
        "    <tr>\n",
        "      <th>2 </th>\n",
        "      <td> 73889fcf-5606-49de-8be0-d96ca8a721d1</td>\n",
        "      <td> 24.920922</td>\n",
        "      <td>  3.729632</td>\n",
        "      <td> 636</td>\n",
        "    </tr>\n",
        "    <tr>\n",
        "      <th>3 </th>\n",
        "      <td> 5afa42f2-370e-4ef7-99d8-9409e3f5fb6d</td>\n",
        "      <td>  1.422820</td>\n",
        "      <td> 22.349633</td>\n",
        "      <td> 686</td>\n",
        "    </tr>\n",
        "    <tr>\n",
        "      <th>4 </th>\n",
        "      <td> 8227e5cf-3ed9-40be-9ef8-d1b7bd321789</td>\n",
        "      <td> 13.228642</td>\n",
        "      <td> 14.966400</td>\n",
        "      <td>  11</td>\n",
        "    </tr>\n",
        "    <tr>\n",
        "      <th>5 </th>\n",
        "      <td> 8148b190-c3ec-4f77-8cdf-e54dfba4ea28</td>\n",
        "      <td> 12.327840</td>\n",
        "      <td> 29.736251</td>\n",
        "      <td> 438</td>\n",
        "    </tr>\n",
        "    <tr>\n",
        "      <th>6 </th>\n",
        "      <td> c8f76156-d909-4545-b0a5-f569f9384a4b</td>\n",
        "      <td>  1.530016</td>\n",
        "      <td> 36.512623</td>\n",
        "      <td> 399</td>\n",
        "    </tr>\n",
        "    <tr>\n",
        "      <th>7 </th>\n",
        "      <td> e0135c03-6dc0-48f5-8146-b965083009e7</td>\n",
        "      <td>  8.986180</td>\n",
        "      <td> 39.012256</td>\n",
        "      <td> 151</td>\n",
        "    </tr>\n",
        "    <tr>\n",
        "      <th>8 </th>\n",
        "      <td> 69fccf36-c46e-4e5c-ae18-bf16c58a975e</td>\n",
        "      <td> 45.208650</td>\n",
        "      <td>  1.070752</td>\n",
        "      <td> 754</td>\n",
        "    </tr>\n",
        "    <tr>\n",
        "      <th>9 </th>\n",
        "      <td> c0f46809-8814-4ed8-8add-c3aa860b1be1</td>\n",
        "      <td>  5.339712</td>\n",
        "      <td> 46.954520</td>\n",
        "      <td> 886</td>\n",
        "    </tr>\n",
        "    <tr>\n",
        "      <th>10</th>\n",
        "      <td> c53fe193-40cd-413a-9dfa-6c72f934e424</td>\n",
        "      <td> 34.375146</td>\n",
        "      <td> 10.269852</td>\n",
        "      <td> 933</td>\n",
        "    </tr>\n",
        "  </tbody>\n",
        "</table>"
       ],
       "metadata": {},
       "output_type": "pyout",
       "prompt_number": 24,
       "text": [
        "                                    UUID        Lat        Lon  Value\n",
        "0   f872bb02-046e-43e5-84c0-02bbf2859bf7   6.445860  26.821681    728\n",
        "1   764c7d87-f0ab-43f9-90c0-05394ef3ebcd  31.101634  12.362736    540\n",
        "2   73889fcf-5606-49de-8be0-d96ca8a721d1  24.920922   3.729632    636\n",
        "3   5afa42f2-370e-4ef7-99d8-9409e3f5fb6d   1.422820  22.349633    686\n",
        "4   8227e5cf-3ed9-40be-9ef8-d1b7bd321789  13.228642  14.966400     11\n",
        "5   8148b190-c3ec-4f77-8cdf-e54dfba4ea28  12.327840  29.736251    438\n",
        "6   c8f76156-d909-4545-b0a5-f569f9384a4b   1.530016  36.512623    399\n",
        "7   e0135c03-6dc0-48f5-8146-b965083009e7   8.986180  39.012256    151\n",
        "8   69fccf36-c46e-4e5c-ae18-bf16c58a975e  45.208650   1.070752    754\n",
        "9   c0f46809-8814-4ed8-8add-c3aa860b1be1   5.339712  46.954520    886\n",
        "..."
       ]
      }
     ],
     "prompt_number": 24
    },
    {
     "cell_type": "code",
     "collapsed": false,
     "input": [
      "data['Value'].mean()"
     ],
     "language": "python",
     "metadata": {},
     "outputs": [
      {
       "html": [
        "499.52010287423667"
       ],
       "metadata": {},
       "output_type": "pyout",
       "prompt_number": 25,
       "text": [
        "499.52010287423667"
       ]
      }
     ],
     "prompt_number": 25
    },
    {
     "cell_type": "code",
     "collapsed": false,
     "input": [],
     "language": "python",
     "metadata": {},
     "outputs": []
    }
   ],
   "metadata": {}
  }
 ]
}